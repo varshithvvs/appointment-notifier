{
 "cells": [
  {
   "cell_type": "code",
   "execution_count": 1,
   "metadata": {},
   "outputs": [],
   "source": [
    "from pathlib import Path\n",
    "EDGE_DRIVER_PATH = str(Path(r'C:\\Users\\amrut\\PythonProjects\\us-visa-appointment-notifier\\edgedriver_win64\\msedgedriver.exe').absolute())"
   ]
  },
  {
   "cell_type": "code",
   "execution_count": 2,
   "metadata": {},
   "outputs": [],
   "source": [
    "from selenium import webdriver\n",
    "from selenium.webdriver.common.by import By\n",
    "import time"
   ]
  },
  {
   "cell_type": "code",
   "execution_count": 3,
   "metadata": {},
   "outputs": [],
   "source": [
    "def build_web_url(city: str):\n",
    "    return f'https://visagrader.com/us-visa-time-slots-availability/india-ind/{city}-P147/b1b2-visa-B1#Interview'"
   ]
  },
  {
   "cell_type": "code",
   "execution_count": 4,
   "metadata": {},
   "outputs": [
    {
     "name": "stderr",
     "output_type": "stream",
     "text": [
      "C:\\Users\\amrut\\AppData\\Local\\Temp\\ipykernel_18512\\175333374.py:1: DeprecationWarning: executable_path has been deprecated, please pass in a Service object\n",
      "  driver = webdriver.Edge(executable_path=EDGE_DRIVER_PATH)\n"
     ]
    }
   ],
   "source": [
    "driver = webdriver.Edge(executable_path=EDGE_DRIVER_PATH)\n",
    "\n",
    "URL = build_web_url('new-delhi')\n",
    "driver.get(URL)\n",
    "time.sleep(10)"
   ]
  },
  {
   "cell_type": "code",
   "execution_count": 5,
   "metadata": {},
   "outputs": [],
   "source": [
    "interview_availability = driver.find_element(By.ID,'Interview-tab-tabpane-availability')"
   ]
  },
  {
   "cell_type": "code",
   "execution_count": 6,
   "metadata": {},
   "outputs": [],
   "source": [
    "day_picker_months = interview_availability.find_element(By.CLASS_NAME,'DayPicker-Months')\n",
    "day_picker_month_list = day_picker_months.find_elements(By.CLASS_NAME,'DayPicker-Month')"
   ]
  },
  {
   "cell_type": "code",
   "execution_count": 11,
   "metadata": {},
   "outputs": [
    {
     "data": {
      "text/plain": [
       "['May 2022',\n",
       " 'June 2022',\n",
       " 'July 2022',\n",
       " 'August 2022',\n",
       " 'September 2022',\n",
       " 'October 2022']"
      ]
     },
     "execution_count": 11,
     "metadata": {},
     "output_type": "execute_result"
    }
   ],
   "source": [
    "[_.find_element(By.CLASS_NAME,'DayPicker-Caption').get_property('textContent') for _ in day_picker_month_list]"
   ]
  },
  {
   "cell_type": "code",
   "execution_count": 19,
   "metadata": {},
   "outputs": [],
   "source": [
    "dates = [_.find_element(By.CLASS_NAME,'DayPicker-Body') for _ in day_picker_month_list]"
   ]
  },
  {
   "cell_type": "code",
   "execution_count": 32,
   "metadata": {},
   "outputs": [],
   "source": [
    "from bs4 import BeautifulSoup\n",
    "\n",
    "_available_dates = [BeautifulSoup(_.get_property('outerHTML')) for _ in dates]"
   ]
  },
  {
   "cell_type": "code",
   "execution_count": 35,
   "metadata": {},
   "outputs": [],
   "source": [
    "available_dates = [__ for _ in _available_dates for __ in _.find_all()]"
   ]
  },
  {
   "cell_type": "code",
   "execution_count": 39,
   "metadata": {},
   "outputs": [
    {
     "name": "stdout",
     "output_type": "stream",
     "text": [
      "['DayPicker-Body']\n",
      "['DayPicker-Body']\n",
      "['DayPicker-Body']\n",
      "['DayPicker-Body']\n",
      "['DayPicker-Body']\n",
      "['DayPicker-Body']\n"
     ]
    },
    {
     "data": {
      "text/plain": [
       "[None, None, None, None, None, None]"
      ]
     },
     "execution_count": 39,
     "metadata": {},
     "output_type": "execute_result"
    }
   ],
   "source": [
    "[print(_['class']) for _ in available_dates]"
   ]
  },
  {
   "cell_type": "code",
   "execution_count": 55,
   "metadata": {},
   "outputs": [],
   "source": [
    "_available_dates = [__ for _ in _available_dates for __ in _.find_all()]"
   ]
  },
  {
   "cell_type": "code",
   "execution_count": 49,
   "metadata": {},
   "outputs": [],
   "source": [
    "s = [_ for _ in day_picker_month_list if _.find_element(By.CLASS_NAME,'DayPicker-Caption').get_property('textContent') == 'September 2022'][0]"
   ]
  },
  {
   "cell_type": "code",
   "execution_count": 55,
   "metadata": {},
   "outputs": [
    {
     "name": "stderr",
     "output_type": "stream",
     "text": [
      "C:\\Users\\amrut\\AppData\\Local\\Temp\\ipykernel_34036\\3645938949.py:1: DeprecationWarning: find_element_by_class_name is deprecated. Please use find_element(by=By.CLASS_NAME, value=name) instead\n",
      "  e = s.find_element_by_class_name('DayPicker-Body').find_elements_by_css_selector(\"*\")\n",
      "C:\\Users\\amrut\\AppData\\Local\\Temp\\ipykernel_34036\\3645938949.py:1: DeprecationWarning: find_elements_by_css_selector is deprecated. Please use find_elements(by=By.CSS_SELECTOR, value=css_selector) instead\n",
      "  e = s.find_element_by_class_name('DayPicker-Body').find_elements_by_css_selector(\"*\")\n"
     ]
    }
   ],
   "source": [
    "e = s.find_element_by_class_name('DayPicker-Body').find_elements_by_css_selector(\"*\")"
   ]
  },
  {
   "cell_type": "code",
   "execution_count": 76,
   "metadata": {},
   "outputs": [],
   "source": [
    "ss = [_ for _ in e if _.get_property('style') != []]"
   ]
  },
  {
   "cell_type": "code",
   "execution_count": 85,
   "metadata": {},
   "outputs": [
    {
     "data": {
      "text/plain": [
       "[<selenium.webdriver.remote.webelement.WebElement (session=\"e278fd0ec8561bad2b004c24be30d05c\", element=\"f6d3e416-ed8b-47b2-b79d-24510af9b016\")>,\n",
       " <selenium.webdriver.remote.webelement.WebElement (session=\"e278fd0ec8561bad2b004c24be30d05c\", element=\"88083d19-15b9-40f5-9116-26319a7698af\")>,\n",
       " <selenium.webdriver.remote.webelement.WebElement (session=\"e278fd0ec8561bad2b004c24be30d05c\", element=\"1d444eec-0483-469b-a8ea-7af2ab59396f\")>,\n",
       " <selenium.webdriver.remote.webelement.WebElement (session=\"e278fd0ec8561bad2b004c24be30d05c\", element=\"163732ef-9ca2-4493-b403-f0bd5d6255ff\")>,\n",
       " <selenium.webdriver.remote.webelement.WebElement (session=\"e278fd0ec8561bad2b004c24be30d05c\", element=\"0a6ccff5-5b26-47a7-90bc-3e439f22d087\")>,\n",
       " <selenium.webdriver.remote.webelement.WebElement (session=\"e278fd0ec8561bad2b004c24be30d05c\", element=\"0f078c07-dfdb-43d9-bb46-f382bd9e4ab8\")>,\n",
       " <selenium.webdriver.remote.webelement.WebElement (session=\"e278fd0ec8561bad2b004c24be30d05c\", element=\"b4f0bf16-d45b-45b0-94f6-c510a230a9e1\")>,\n",
       " <selenium.webdriver.remote.webelement.WebElement (session=\"e278fd0ec8561bad2b004c24be30d05c\", element=\"b9f30390-8e71-49a2-a35a-ff19abd2ee2d\")>,\n",
       " <selenium.webdriver.remote.webelement.WebElement (session=\"e278fd0ec8561bad2b004c24be30d05c\", element=\"a17e2bd8-2d62-4ea8-a843-b71b0a812195\")>,\n",
       " <selenium.webdriver.remote.webelement.WebElement (session=\"e278fd0ec8561bad2b004c24be30d05c\", element=\"e05f281d-672e-40fb-98cc-371910841c14\")>,\n",
       " <selenium.webdriver.remote.webelement.WebElement (session=\"e278fd0ec8561bad2b004c24be30d05c\", element=\"ba35c0ef-d7ad-49dc-8efb-a8942c1f0f13\")>,\n",
       " <selenium.webdriver.remote.webelement.WebElement (session=\"e278fd0ec8561bad2b004c24be30d05c\", element=\"8bfb97ab-a28d-4e4d-a3da-e2cf25619b36\")>,\n",
       " <selenium.webdriver.remote.webelement.WebElement (session=\"e278fd0ec8561bad2b004c24be30d05c\", element=\"5a57e456-4df4-4505-8fdc-c76f93e6882a\")>,\n",
       " <selenium.webdriver.remote.webelement.WebElement (session=\"e278fd0ec8561bad2b004c24be30d05c\", element=\"a855729c-2c05-42f0-8ab4-974d0cbd6c57\")>,\n",
       " <selenium.webdriver.remote.webelement.WebElement (session=\"e278fd0ec8561bad2b004c24be30d05c\", element=\"8c1522fe-4484-47cf-ab9d-547110f986fc\")>,\n",
       " <selenium.webdriver.remote.webelement.WebElement (session=\"e278fd0ec8561bad2b004c24be30d05c\", element=\"88d894d6-55b2-4afc-b31f-f439f1f5365b\")>,\n",
       " <selenium.webdriver.remote.webelement.WebElement (session=\"e278fd0ec8561bad2b004c24be30d05c\", element=\"c3bcbaad-e811-4ec1-b7dc-969c30e6a31c\")>,\n",
       " <selenium.webdriver.remote.webelement.WebElement (session=\"e278fd0ec8561bad2b004c24be30d05c\", element=\"fba80528-f070-44b5-a58c-36c42f254d54\")>,\n",
       " <selenium.webdriver.remote.webelement.WebElement (session=\"e278fd0ec8561bad2b004c24be30d05c\", element=\"f05abe59-b86f-4998-8888-50b535633d25\")>,\n",
       " <selenium.webdriver.remote.webelement.WebElement (session=\"e278fd0ec8561bad2b004c24be30d05c\", element=\"9a5e144a-e4ac-417c-8e2d-d11adaba04f5\")>,\n",
       " <selenium.webdriver.remote.webelement.WebElement (session=\"e278fd0ec8561bad2b004c24be30d05c\", element=\"20529fa7-5402-4ad3-b5bc-0048ed4f661b\")>,\n",
       " <selenium.webdriver.remote.webelement.WebElement (session=\"e278fd0ec8561bad2b004c24be30d05c\", element=\"22d55bca-bd68-478d-beb8-45047a319f5c\")>]"
      ]
     },
     "execution_count": 85,
     "metadata": {},
     "output_type": "execute_result"
    }
   ],
   "source": [
    "sdf = [_ for _ in e if 'staleAvailable' in _.get_property('outerHTML')]"
   ]
  },
  {
   "cell_type": "code",
   "execution_count": 88,
   "metadata": {},
   "outputs": [
    {
     "data": {
      "text/plain": [
       "'<div class=\"DayPicker-Week\" role=\"row\"><div aria-disabled=\"true\" class=\"DayPicker-Day DayPicker-Day--weekends DayPicker-Day--outside\" style=\"background-color: white;\"></div><div aria-disabled=\"true\" class=\"DayPicker-Day DayPicker-Day--outside\" style=\"background-color: white;\"></div><div aria-disabled=\"true\" class=\"DayPicker-Day DayPicker-Day--outside\" style=\"background-color: white;\"></div><div aria-disabled=\"true\" class=\"DayPicker-Day DayPicker-Day--outside\" style=\"background-color: white;\"></div><div class=\"DayPicker-Day\" tabindex=\"0\" role=\"gridcell\" aria-label=\"Thu Sep 01 2022\" aria-disabled=\"false\" aria-selected=\"false\">1</div><div class=\"DayPicker-Day DayPicker-Day--staleAvailable\" tabindex=\"-1\" role=\"gridcell\" aria-label=\"Fri Sep 02 2022\" aria-disabled=\"false\" aria-selected=\"false\" style=\"color: white; background-color: rgb(0, 71, 171);\">2</div><div class=\"DayPicker-Day DayPicker-Day--weekends\" tabindex=\"-1\" role=\"gridcell\" aria-label=\"Sat Sep 03 2022\" aria-disabled=\"false\" aria-selected=\"false\">3</div></div>'"
      ]
     },
     "execution_count": 88,
     "metadata": {},
     "output_type": "execute_result"
    }
   ],
   "source": [
    "sdf[0].get_property('outerHTML')"
   ]
  },
  {
   "cell_type": "code",
   "execution_count": 91,
   "metadata": {},
   "outputs": [],
   "source": [
    "from bs4 import BeautifulSoup\n",
    "soup = BeautifulSoup(sdf[0].get_property('outerHTML'))"
   ]
  },
  {
   "cell_type": "code",
   "execution_count": 105,
   "metadata": {},
   "outputs": [
    {
     "data": {
      "text/plain": [
       "'Fri Sep 02 2022'"
      ]
     },
     "execution_count": 105,
     "metadata": {},
     "output_type": "execute_result"
    }
   ],
   "source": [
    "ss = soup.find_all()[6]\n",
    "ss['aria-label']"
   ]
  },
  {
   "cell_type": "code",
   "execution_count": 58,
   "metadata": {},
   "outputs": [],
   "source": [
    "driver.quit()"
   ]
  }
 ],
 "metadata": {
  "interpreter": {
   "hash": "c8f2305a9b11261aac251686acd2f1ba233e6524c28aefb9cb194804e3af53e2"
  },
  "kernelspec": {
   "display_name": "Python 3.8.10 ('.venv': venv)",
   "language": "python",
   "name": "python3"
  },
  "language_info": {
   "codemirror_mode": {
    "name": "ipython",
    "version": 3
   },
   "file_extension": ".py",
   "mimetype": "text/x-python",
   "name": "python",
   "nbconvert_exporter": "python",
   "pygments_lexer": "ipython3",
   "version": "3.8.10"
  },
  "orig_nbformat": 4
 },
 "nbformat": 4,
 "nbformat_minor": 2
}
